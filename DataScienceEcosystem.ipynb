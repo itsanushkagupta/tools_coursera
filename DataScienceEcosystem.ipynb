{
 "cells": [
  {
   "cell_type": "markdown",
   "id": "96ea9956",
   "metadata": {},
   "source": [
    "# Data Science Tools and Ecosystem "
   ]
  },
  {
   "cell_type": "markdown",
   "id": "91571206",
   "metadata": {},
   "source": [
    "### Introduction to data science"
   ]
  },
  {
   "cell_type": "markdown",
   "id": "bf65da15",
   "metadata": {},
   "source": [
    "The goal of data science is to gain valuable insights, make informed decisions, and solve problems by leveraging data-driven approaches."
   ]
  },
  {
   "cell_type": "markdown",
   "id": "cdbd1bfe",
   "metadata": {},
   "source": [
    "#### Data science languages-\n",
    "1. Python \n",
    "2. R\n",
    "3. SQL\n",
    "4. C/C++\n",
    "5. MATLAB"
   ]
  },
  {
   "cell_type": "markdown",
   "id": "e2982160",
   "metadata": {},
   "source": [
    " #### Data science libraries-\n",
    " 1. Pandas\n",
    " 2. Numpy\n",
    " 3. Matplotlib\n",
    " 4. scikit-learn\n",
    " 5. Tensorflow\n",
    " 6. Nltk\n",
    " 7. keras"
   ]
  },
  {
   "cell_type": "markdown",
   "id": "f6534b76",
   "metadata": {},
   "source": [
    "### Data Science Tools-\n",
    "\n",
    "1. Python- General-purpose programming language with extensive libraries for data science\n",
    "2. R- Statistical programming language with a wide range of packages for data analysis and visualization\n",
    "3. SQL- Database query language used for data extraction and manipulation\n",
    "4. Jupyter Notebook- Interactive web-based environment for creating and sharing documents that contain live code, equations, visualizations, and narrative text\n",
    "\n"
   ]
  },
  {
   "cell_type": "markdown",
   "id": "c0880406",
   "metadata": {},
   "source": [
    "### arithmetic expressions-\n",
    "\n",
    "Below are a few examples of evaluating arithmetic expressions in Python:-"
   ]
  },
  {
   "cell_type": "code",
   "execution_count": 1,
   "id": "274c1a3e",
   "metadata": {},
   "outputs": [
    {
     "name": "stdout",
     "output_type": "stream",
     "text": [
      "13\n"
     ]
    }
   ],
   "source": [
    "expression = \"2 + 3 * 4 - 1\"\n",
    "result = eval(expression)\n",
    "print(result)  \n"
   ]
  },
  {
   "cell_type": "code",
   "execution_count": 2,
   "id": "b873c4fa",
   "metadata": {},
   "outputs": [
    {
     "name": "stdout",
     "output_type": "stream",
     "text": [
      "17\n"
     ]
    }
   ],
   "source": [
    "#This a simple arithmetic expression to mutiply then add integers\n",
    "\n",
    "exp = (3*4)+5\n",
    "print(exp)"
   ]
  },
  {
   "cell_type": "code",
   "execution_count": 4,
   "id": "442f1a58",
   "metadata": {},
   "outputs": [
    {
     "name": "stdout",
     "output_type": "stream",
     "text": [
      "3.3333333333333335\n"
     ]
    }
   ],
   "source": [
    "#to convert minutes to hours\n",
    "\n",
    "minutes = 200\n",
    "hours = minutes / 60\n",
    "print (hours) \n"
   ]
  },
  {
   "cell_type": "markdown",
   "id": "4543de5a",
   "metadata": {},
   "source": [
    "## Objectives:\n",
    "1. List popular languages for Data Science\n",
    "2. List popular libraries for Data Science\n",
    "3. List popular tools for Data Science\n",
    "4. Arithematic expression in python\n",
    "5. To convert minutes to hours"
   ]
  },
  {
   "cell_type": "markdown",
   "id": "a4ae01e6",
   "metadata": {},
   "source": [
    "## Author\n",
    "Anushka Gupta"
   ]
  }
 ],
 "metadata": {
  "kernelspec": {
   "display_name": "Python 3 (ipykernel)",
   "language": "python",
   "name": "python3"
  },
  "language_info": {
   "codemirror_mode": {
    "name": "ipython",
    "version": 3
   },
   "file_extension": ".py",
   "mimetype": "text/x-python",
   "name": "python",
   "nbconvert_exporter": "python",
   "pygments_lexer": "ipython3",
   "version": "3.9.12"
  }
 },
 "nbformat": 4,
 "nbformat_minor": 5
}
